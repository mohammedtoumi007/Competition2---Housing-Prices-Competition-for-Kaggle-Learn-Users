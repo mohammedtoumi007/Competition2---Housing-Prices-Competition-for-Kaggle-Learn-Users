{
 "cells": [
  {
   "cell_type": "code",
   "execution_count": 1,
   "id": "ac767844",
   "metadata": {
    "_cell_guid": "b1076dfc-b9ad-4769-8c92-a6c4dae69d19",
    "_uuid": "8f2839f25d086af736a60e9eeb907d3b93b6e0e5",
    "execution": {
     "iopub.execute_input": "2021-08-13T15:54:14.030362Z",
     "iopub.status.busy": "2021-08-13T15:54:14.029165Z",
     "iopub.status.idle": "2021-08-13T15:54:21.847936Z",
     "shell.execute_reply": "2021-08-13T15:54:21.847261Z",
     "shell.execute_reply.started": "2021-08-13T15:52:27.781122Z"
    },
    "papermill": {
     "duration": 7.828647,
     "end_time": "2021-08-13T15:54:21.848104",
     "exception": false,
     "start_time": "2021-08-13T15:54:14.019457",
     "status": "completed"
    },
    "tags": []
   },
   "outputs": [
    {
     "data": {
      "text/plain": [
       "23851.317025246077"
      ]
     },
     "execution_count": 1,
     "metadata": {},
     "output_type": "execute_result"
    }
   ],
   "source": [
    "# Import helpful libraries\n",
    "import pandas as pd\n",
    "import numpy as np\n",
    "from sklearn.ensemble import RandomForestRegressor, GradientBoostingRegressor\n",
    "from sklearn.metrics import mean_absolute_error, mean_squared_error\n",
    "from sklearn.model_selection import train_test_split\n",
    "\n",
    "# Load the data, and separate the target\n",
    "iowa_file_path = '../input/home-data-for-ml-course/train.csv'\n",
    "home_data = pd.read_csv(iowa_file_path)\n",
    "y = home_data.SalePrice\n",
    "\n",
    "# Create X (After completing the exercise, you can return to modify this line!)\n",
    "# features = ['LotArea', 'YearBuilt', '1stFlrSF', '2ndFlrSF', 'FullBath', 'BedroomAbvGr', 'TotRmsAbvGrd']\n",
    "features = [\n",
    "    'MSSubClass',\n",
    "    'LotArea',\n",
    "    'OverallQual',\n",
    "    'OverallCond',\n",
    "    'YearBuilt',\n",
    "    'YearRemodAdd',\n",
    "    '1stFlrSF',\n",
    "    '2ndFlrSF',\n",
    "    'LowQualFinSF',\n",
    "    'GrLivArea',\n",
    "    'FullBath',\n",
    "    'HalfBath',\n",
    "    'BedroomAbvGr',\n",
    "    'KitchenAbvGr',\n",
    "    'TotRmsAbvGrd',\n",
    "    'Fireplaces',\n",
    "    'WoodDeckSF',\n",
    "    'OpenPorchSF',\n",
    "    'EnclosedPorch',\n",
    "    '3SsnPorch',\n",
    "    'ScreenPorch',\n",
    "    'PoolArea',\n",
    "    'MiscVal',\n",
    "    'MoSold',\n",
    "    'YrSold',\n",
    "]\n",
    "# Select columns corresponding to features, and preview the data\n",
    "X = home_data[features]\n",
    "X.head()\n",
    "\n",
    "# Split into validation and training data\n",
    "train_X, val_X, train_y, val_y = train_test_split(X, y, random_state=1)\n",
    "\n",
    "# Define a random forest model\n",
    "rf_model = RandomForestRegressor(random_state=1, n_estimators = 500)\n",
    "rf_model.fit(train_X, train_y)\n",
    "rf_val_predictions = rf_model.predict(val_X)\n",
    "\n",
    "gbm_model = GradientBoostingRegressor(random_state = 1, n_estimators = 700)\n",
    "gbm_model.fit(train_X,train_y)\n",
    "gbl_val_predictions = gbm_model.predict(val_X)\n",
    "\n",
    "predictions = (rf_val_predictions + gbl_val_predictions) / 2\n",
    "np.sqrt(mean_squared_error(predictions, val_y))\n"
   ]
  },
  {
   "cell_type": "code",
   "execution_count": 2,
   "id": "15fd99d7",
   "metadata": {
    "execution": {
     "iopub.execute_input": "2021-08-13T15:54:21.868154Z",
     "iopub.status.busy": "2021-08-13T15:54:21.867438Z",
     "iopub.status.idle": "2021-08-13T15:54:30.219877Z",
     "shell.execute_reply": "2021-08-13T15:54:30.219310Z",
     "shell.execute_reply.started": "2021-08-13T15:32:31.143409Z"
    },
    "papermill": {
     "duration": 8.365795,
     "end_time": "2021-08-13T15:54:30.220030",
     "exception": false,
     "start_time": "2021-08-13T15:54:21.854235",
     "status": "completed"
    },
    "tags": []
   },
   "outputs": [],
   "source": [
    "# To improve accuracy, create a new Random Forest model which you will train on all training data\n",
    "rf_model_on_full_data = RandomForestRegressor(random_state = 1, n_estimators = 700)\n",
    "\n",
    "# fit rf_model_on_full_data on all data from the training data\n",
    "rf_model_on_full_data.fit(X,y)\n",
    "\n",
    "# path to file you will use for predictions\n",
    "test_data_path = '../input/home-data-for-ml-course/test.csv'\n",
    "\n",
    "# read test data file using pandas\n",
    "test_data = pd.read_csv(test_data_path)\n",
    "test_data = test_data.fillna(-1)\n",
    "\n",
    "# create test_X which comes from test_data but includes only the columns you used for prediction.\n",
    "# The list of columns is stored in a variable called features\n",
    "test_X = test_data[features]\n",
    "\n",
    "# make predictions which we will submit. \n",
    "test_preds = rf_model_on_full_data.predict(test_X)\n",
    "\n",
    "# Run the code to save predictions in the format used for competition scoring\n",
    "\n",
    "output = pd.DataFrame({'Id': test_data[\"Id\"],\n",
    "                       'SalePrice': test_preds})\n",
    "output.to_csv('submission.csv', index=False)"
   ]
  },
  {
   "cell_type": "code",
   "execution_count": 3,
   "id": "d764e6dc",
   "metadata": {
    "execution": {
     "iopub.execute_input": "2021-08-13T15:54:30.235644Z",
     "iopub.status.busy": "2021-08-13T15:54:30.235005Z",
     "iopub.status.idle": "2021-08-13T15:54:30.247066Z",
     "shell.execute_reply": "2021-08-13T15:54:30.246546Z",
     "shell.execute_reply.started": "2021-08-13T15:39:28.471554Z"
    },
    "papermill": {
     "duration": 0.022153,
     "end_time": "2021-08-13T15:54:30.247203",
     "exception": false,
     "start_time": "2021-08-13T15:54:30.225050",
     "status": "completed"
    },
    "tags": []
   },
   "outputs": [
    {
     "data": {
      "text/html": [
       "<div>\n",
       "<style scoped>\n",
       "    .dataframe tbody tr th:only-of-type {\n",
       "        vertical-align: middle;\n",
       "    }\n",
       "\n",
       "    .dataframe tbody tr th {\n",
       "        vertical-align: top;\n",
       "    }\n",
       "\n",
       "    .dataframe thead th {\n",
       "        text-align: right;\n",
       "    }\n",
       "</style>\n",
       "<table border=\"1\" class=\"dataframe\">\n",
       "  <thead>\n",
       "    <tr style=\"text-align: right;\">\n",
       "      <th></th>\n",
       "      <th>Id</th>\n",
       "      <th>SalePrice</th>\n",
       "    </tr>\n",
       "  </thead>\n",
       "  <tbody>\n",
       "    <tr>\n",
       "      <th>0</th>\n",
       "      <td>1461</td>\n",
       "      <td>125814.140000</td>\n",
       "    </tr>\n",
       "    <tr>\n",
       "      <th>1</th>\n",
       "      <td>1462</td>\n",
       "      <td>155683.857143</td>\n",
       "    </tr>\n",
       "    <tr>\n",
       "      <th>2</th>\n",
       "      <td>1463</td>\n",
       "      <td>173040.830000</td>\n",
       "    </tr>\n",
       "    <tr>\n",
       "      <th>3</th>\n",
       "      <td>1464</td>\n",
       "      <td>182227.385714</td>\n",
       "    </tr>\n",
       "    <tr>\n",
       "      <th>4</th>\n",
       "      <td>1465</td>\n",
       "      <td>196255.030000</td>\n",
       "    </tr>\n",
       "  </tbody>\n",
       "</table>\n",
       "</div>"
      ],
      "text/plain": [
       "     Id      SalePrice\n",
       "0  1461  125814.140000\n",
       "1  1462  155683.857143\n",
       "2  1463  173040.830000\n",
       "3  1464  182227.385714\n",
       "4  1465  196255.030000"
      ]
     },
     "execution_count": 3,
     "metadata": {},
     "output_type": "execute_result"
    }
   ],
   "source": [
    "output.head()"
   ]
  },
  {
   "cell_type": "code",
   "execution_count": null,
   "id": "d39c5e78",
   "metadata": {
    "papermill": {
     "duration": 0.005352,
     "end_time": "2021-08-13T15:54:30.257993",
     "exception": false,
     "start_time": "2021-08-13T15:54:30.252641",
     "status": "completed"
    },
    "tags": []
   },
   "outputs": [],
   "source": []
  }
 ],
 "metadata": {
  "kernelspec": {
   "display_name": "Python 3",
   "language": "python",
   "name": "python3"
  },
  "language_info": {
   "codemirror_mode": {
    "name": "ipython",
    "version": 3
   },
   "file_extension": ".py",
   "mimetype": "text/x-python",
   "name": "python",
   "nbconvert_exporter": "python",
   "pygments_lexer": "ipython3",
   "version": "3.7.10"
  },
  "papermill": {
   "default_parameters": {},
   "duration": 24.670426,
   "end_time": "2021-08-13T15:54:30.972891",
   "environment_variables": {},
   "exception": null,
   "input_path": "__notebook__.ipynb",
   "output_path": "__notebook__.ipynb",
   "parameters": {},
   "start_time": "2021-08-13T15:54:06.302465",
   "version": "2.3.3"
  }
 },
 "nbformat": 4,
 "nbformat_minor": 5
}
